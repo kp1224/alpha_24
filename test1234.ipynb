{
 "cells": [
  {
   "cell_type": "code",
   "execution_count": 1,
   "id": "8beaa179",
   "metadata": {},
   "outputs": [
    {
     "name": "stdout",
     "output_type": "stream",
     "text": [
      "this is my first class\n",
      "this is my first class\n",
      "this is my first class\n",
      "this is my first class\n",
      "this is my first class\n"
     ]
    }
   ],
   "source": [
    "print(\"this is my first class\")\n",
    "print(\"this is my first class\")\n",
    "print(\"this is my first class\")\n",
    "print(\"this is my first class\")\n",
    "print(\"this is my first class\")"
   ]
  },
  {
   "cell_type": "markdown",
   "id": "34207f66",
   "metadata": {},
   "source": [
    "# my name is kapil"
   ]
  },
  {
   "cell_type": "code",
   "execution_count": null,
   "id": "18d5a9f0",
   "metadata": {},
   "outputs": [],
   "source": []
  }
 ],
 "metadata": {
  "kernelspec": {
   "display_name": "Python 3",
   "language": "python",
   "name": "python3"
  },
  "language_info": {
   "codemirror_mode": {
    "name": "ipython",
    "version": 3
   },
   "file_extension": ".py",
   "mimetype": "text/x-python",
   "name": "python",
   "nbconvert_exporter": "python",
   "pygments_lexer": "ipython3",
   "version": "3.8.8"
  }
 },
 "nbformat": 4,
 "nbformat_minor": 5
}
